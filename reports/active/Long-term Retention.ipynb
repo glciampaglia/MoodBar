{
 "metadata": {
  "name": ""
 },
 "nbformat": 3,
 "nbformat_minor": 0,
 "worksheets": [
  {
   "cells": [
    {
     "cell_type": "heading",
     "level": 1,
     "metadata": {},
     "source": [
      "Long-term retention analysis of the MoodBar experiment"
     ]
    },
    {
     "cell_type": "markdown",
     "metadata": {},
     "source": [
      "We want to estimate the long-term retention of the users of the MoodBar experiment which we ran in May-June 2012. The experiment is detailed on metawiki. "
     ]
    },
    {
     "cell_type": "code",
     "collapsed": false,
     "input": [
      "import numpy as np\n",
      "import pandas as pd\n",
      "from datetime import datetime\n",
      "\n",
      "treat_start = datetime(2012, 5, 23)\n",
      "treat_end = datetime(2012, 6, 15)\n",
      "contribs = pd.read_csv('../../data/pp_control_treatment.tsv', sep='\\t', parse_dates=[3])\n",
      "size = pd.read_csv('../../data/ppsize.tsv', sep='\\t', parse_dates=[1])\n",
      "regs = pd.read_csv('../../data/ppregs.tsv', sep='\\t', parse_dates=[1], names=['user', 'registration'],\n",
      "                    index_col=0)"
     ],
     "language": "python",
     "metadata": {},
     "outputs": []
    },
    {
     "cell_type": "code",
     "collapsed": false,
     "input": [
      "ax = size.plot('registration', 'size', marker='o', color='k', linestyle=':')\n",
      "ax.set_ylim(0, 4000)\n",
      "ax.set_ylabel('Daily registrations')\n",
      "ax.set_xlabel('')\n",
      "ax.plot_date([np.datetime64(treat_end)] * 2, ylim(), '-g' )\n",
      "draw()"
     ],
     "language": "python",
     "metadata": {},
     "outputs": []
    },
    {
     "cell_type": "code",
     "collapsed": false,
     "input": [
      "N_check = 180\n",
      "df = contribs.groupby(['user', 'group'], as_index=False).agg({'date': 'max'}).set_index('user').join(regs)\n",
      "df = df.rename(columns={'date': 'lastcontrib'})\n",
      "df['active'] = df['lastcontrib'] >= (df['registration'] + np.timedelta64(N_check, 'D'))\n",
      "a = df.groupby('group').agg({'active': 'sum'})\n",
      "b = size.groupby('group').agg({'size': 'sum'})\n",
      "p = a['active'] / b['size']\n",
      "yerr = 1.96  * np.sqrt(p * (1 - p) / b['size'])"
     ],
     "language": "python",
     "metadata": {},
     "outputs": []
    },
    {
     "cell_type": "code",
     "collapsed": false,
     "input": [
      "fig = figure(figsize=(4, 3))\n",
      "grid(axis='y')\n",
      "bar([0, 1], p.values, yerr=yerr / 2, width=0.8, color='gray', \n",
      "    ecolor='k', capsize=5, alpha=.5)\n",
      "xticks([0.4, 1.4], p.index.map(str.capitalize))\n",
      "xlim(-.2,2)\n",
      "ylim(0, .04)\n",
      "ylabel('6 Months Retention Probability')\n",
      "title('N = {:,.0f}'.format(b['size'].sum()))\n",
      "tight_layout()\n",
      "savefig('retention_barplot.pdf')"
     ],
     "language": "python",
     "metadata": {},
     "outputs": []
    },
    {
     "cell_type": "code",
     "collapsed": false,
     "input": [],
     "language": "python",
     "metadata": {},
     "outputs": []
    }
   ],
   "metadata": {}
  }
 ]
}